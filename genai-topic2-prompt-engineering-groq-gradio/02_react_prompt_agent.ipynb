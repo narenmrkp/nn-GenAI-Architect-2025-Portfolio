✅ Project 2: ReAct Prompt Agent (Tool Use + Reasoning)
-----------------------------------------------------------
# ✅ ReAct Prompt Agent with Calculator using LangChain + Groq + Gradio
!pip install -q langchain langchain-groq gradio

import os, gradio as gr
from langchain.agents import Tool, initialize_agent, AgentType
from langchain.tools import DuckDuckGoSearchRun
from langchain.agents.agent_toolkits import load_tools
from langchain.utilities import SerpAPIWrapper
from langchain_groq import ChatGroq
from langchain.tools.python.tool import PythonREPLTool

# 🔑 Set your Groq API Key
os.environ["GROQ_API_KEY"] = "your-groq-api-key"

llm = ChatGroq(temperature=0, model_name="llama3-8b-8192")

tools = [
    Tool(name="Calculator", func=eval, description="Useful for math"),
    PythonREPLTool(),  # For simple calculations
]

agent = initialize_agent(
    tools=tools,
    llm=llm,
    agent=AgentType.CHAT_ZERO_SHOT_REACT_DESCRIPTION,
    verbose=True,
    handle_parsing_errors=True
)

def run_agent(question):
    try:
        return agent.run(question)
    except Exception as e:
        return f"❌ Error: {str(e)}"

gr.Interface(
    fn=run_agent,
    inputs=gr.Textbox(label="Ask Anything", placeholder="E.g. What is (24*19)+13?"),
    outputs=gr.Textbox(label="Agent Response"),
    title="🧠 ReAct Prompt Agent with Groq",
    description="Tool-using LLM with ReAct prompting and reasoning steps"
).launch()
